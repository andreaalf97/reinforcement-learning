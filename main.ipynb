{
 "cells": [
  {
   "cell_type": "code",
   "execution_count": 68,
   "metadata": {},
   "outputs": [],
   "source": [
    "import numpy as np\n",
    "import requests\n",
    "import json"
   ]
  },
  {
   "cell_type": "code",
   "execution_count": 12,
   "metadata": {},
   "outputs": [
    {
     "data": {
      "text/plain": [
       "array([[0, 0, 0, 0],\n",
       "       [0, 0, 0, 0],\n",
       "       [0, 2, 4, 4],\n",
       "       [0, 2, 0, 2]])"
      ]
     },
     "execution_count": 12,
     "metadata": {},
     "output_type": "execute_result"
    }
   ],
   "source": [
    "import random\n",
    "\n",
    "board = np.zeros([4, 4], \"int64\")\n",
    "# board[0] = [random.choice([0, 2, 4, 8]) for _ in range(4)]\n",
    "# board[1] = [random.choice([0, 2, 4, 8]) for _ in range(4)]\n",
    "# board[2] = [random.choice([0, 2, 4, 8]) for _ in range(4)]\n",
    "# board[3] = [random.choice([0, 2, 4, 8]) for _ in range(4)]\n",
    "\n",
    "board[0] = [0, 0, 0, 0]\n",
    "board[1] = [0, 0, 0, 0]\n",
    "board[2] = [0, 2, 4, 4]\n",
    "board[3] = [0, 2, 0, 2]\n",
    "board"
   ]
  },
  {
   "cell_type": "code",
   "execution_count": 13,
   "metadata": {},
   "outputs": [
    {
     "data": {
      "text/plain": [
       "array([[0, 0, 0, 0],\n",
       "       [0, 0, 0, 0],\n",
       "       [0, 2, 4, 4],\n",
       "       [0, 2, 0, 2]])"
      ]
     },
     "execution_count": 13,
     "metadata": {},
     "output_type": "execute_result"
    }
   ],
   "source": [
    "def add_random(board, init=2):\n",
    "    from random import choice\n",
    "    available = []\n",
    "    for row in range(len(board)):\n",
    "        for col in range(len(board[0])):\n",
    "            if board[row][col] == 0:\n",
    "                available.append((row, col))\n",
    "    \n",
    "    selected = choice(available)\n",
    "    board[selected[0]][selected[1]] = init\n",
    "    return board\n",
    "\n",
    "# board = add_random(board.copy())\n",
    "board"
   ]
  },
  {
   "cell_type": "code",
   "execution_count": 16,
   "metadata": {},
   "outputs": [
    {
     "data": {
      "text/plain": [
       "array([[0, 0, 0, 0],\n",
       "       [0, 0, 0, 0],\n",
       "       [0, 2, 4, 4],\n",
       "       [0, 2, 0, 2]])"
      ]
     },
     "metadata": {},
     "output_type": "display_data"
    },
    {
     "data": {
      "text/plain": [
       "array([[0, 0, 0, 0],\n",
       "       [0, 0, 0, 0],\n",
       "       [0, 0, 2, 8],\n",
       "       [0, 0, 2, 4]])"
      ]
     },
     "metadata": {},
     "output_type": "display_data"
    },
    {
     "name": "stdout",
     "output_type": "stream",
     "text": [
      "12\n"
     ]
    },
    {
     "data": {
      "text/plain": [
       "(array([[0, 0, 0, 0],\n",
       "        [0, 0, 0, 0],\n",
       "        [2, 8, 2, 0],\n",
       "        [4, 0, 0, 0]]),\n",
       " 12)"
      ]
     },
     "metadata": {},
     "output_type": "display_data"
    },
    {
     "name": "stdout",
     "output_type": "stream",
     "text": [
      "12\n"
     ]
    }
   ],
   "source": [
    "def add_random(b_, init=2):\n",
    "    board = b_.copy()\n",
    "    from random import choice\n",
    "    available = []\n",
    "    for row in range(len(board)):\n",
    "        for col in range(len(board[0])):\n",
    "            if board[row][col] == 0:\n",
    "                available.append((row, col))\n",
    "    \n",
    "    selected = choice(available)\n",
    "    board[selected[0]][selected[1]] = init\n",
    "    return board\n",
    "\n",
    "def collapse_row_right(row_):\n",
    "    row = row_.copy()\n",
    "\n",
    "    points = 0\n",
    "\n",
    "    i = len(row) - 1\n",
    "    while i > 0:\n",
    "        if row[i] != 0:\n",
    "            for j in range(i-1, -1, -1):\n",
    "                # print(f\"Compare {row[i]}({i}) and {row[j]}({j})\")\n",
    "                if row[i] == row[j]:\n",
    "                    row[i] = row[i] + row[j]\n",
    "                    points += row[i]\n",
    "                    row[j] = 0\n",
    "                    i = j\n",
    "                    break\n",
    "                if row[j] != 0:\n",
    "                    break\n",
    "        i -= 1\n",
    "\n",
    "    found_item = False\n",
    "    for i in range(len(row)):\n",
    "\n",
    "        if row[i] == 0 and found_item:\n",
    "            for j in range(i, 0, -1):\n",
    "                row[j] = row[j-1]\n",
    "            row[0] = 0\n",
    "\n",
    "        found_item = row[i] != 0\n",
    "    \n",
    "    return row, points\n",
    "\n",
    "def shift_right(b_):\n",
    "    board = b_.copy()\n",
    "    points = 0\n",
    "    for row_num in range(len(board)):\n",
    "        board[row_num], p = collapse_row_right(list(board[row_num]))\n",
    "        points += p\n",
    "    return add_random(board), points\n",
    "\n",
    "def shift_left(b_):\n",
    "    board = b_.copy()\n",
    "    points = 0\n",
    "    for row_num in range(len(board)):\n",
    "        new_row, p = collapse_row_right(list(board[row_num])[::-1])\n",
    "        new_row = new_row[::-1]\n",
    "        board[row_num] = new_row\n",
    "        points += p\n",
    "    return add_random(board), points\n",
    "\n",
    "def shift_down(b_):\n",
    "    board = b_.copy()\n",
    "    points = 0\n",
    "    for col_num in range(len(board[0])):\n",
    "        board[:, col_num], p = collapse_row_right(list(board[:, col_num]))\n",
    "        points += p\n",
    "    return add_random(board), points\n",
    "\n",
    "def shift_up(b_):\n",
    "    board = b_.copy()\n",
    "    points = 0\n",
    "    for col_num in range(len(board[0])):\n",
    "        # display(board[:, col_num])\n",
    "        new_col, p = collapse_row_right(list(board[:, col_num])[::-1])[::-1]\n",
    "        new_col = new_col[::-1]\n",
    "        board[:, col_num] = new_col\n",
    "        points += p\n",
    "    return add_random(board), points\n",
    "\n",
    "display(board)\n",
    "display(shift_right(board)[0])\n",
    "print(shift_right(board)[1])\n",
    "display(shift_left(board))\n",
    "print(shift_left(board)[1])\n",
    "# display(shift_down(board))\n",
    "# display(shift_up(board))"
   ]
  },
  {
   "cell_type": "code",
   "execution_count": 77,
   "metadata": {},
   "outputs": [],
   "source": [
    "def send_action(type: str, board: np.array):\n",
    "    assert isinstance(type, str) and type in [\"up\", \"down\", \"left\", \"right\"]\n",
    "    url = f\"http://localhost:5000/{type}\"\n",
    "    data = {\"board\": board.tolist()}\n",
    "    headers = {'Content-type': 'application/json', 'Accept': 'text/plain'}\n",
    "    r = requests.post(url, data=json.dumps(data), headers=headers)\n",
    "\n",
    "    return np.array(r.json()[\"board\"]), r.json()[\"points\"]"
   ]
  },
  {
   "cell_type": "code",
   "execution_count": 73,
   "metadata": {},
   "outputs": [
    {
     "name": "stdout",
     "output_type": "stream",
     "text": [
      "POINTS: 0\n"
     ]
    },
    {
     "data": {
      "text/plain": [
       "array([[0, 0, 0, 0],\n",
       "       [0, 0, 0, 0],\n",
       "       [0, 0, 2, 0],\n",
       "       [0, 0, 0, 0]])"
      ]
     },
     "metadata": {},
     "output_type": "display_data"
    }
   ],
   "source": [
    "url = \"http://localhost:5000/init\"\n",
    "r = requests.get(url)\n",
    "r.status_code\n",
    "\n",
    "board, points = r.json()\n",
    "board = np.array(board)\n",
    "\n",
    "print(\"POINTS:\", points)\n",
    "display(board)"
   ]
  },
  {
   "cell_type": "code",
   "execution_count": 85,
   "metadata": {},
   "outputs": [
    {
     "name": "stdout",
     "output_type": "stream",
     "text": [
      "POINTS: 4\n"
     ]
    },
    {
     "data": {
      "text/plain": [
       "array([[0, 0, 0, 0],\n",
       "       [0, 0, 0, 0],\n",
       "       [4, 0, 0, 0],\n",
       "       [8, 4, 0, 2]])"
      ]
     },
     "metadata": {},
     "output_type": "display_data"
    }
   ],
   "source": [
    "board, points = send_action(\"down\", board)\n",
    "print(\"POINTS:\", points)\n",
    "display(board)"
   ]
  },
  {
   "cell_type": "code",
   "execution_count": null,
   "metadata": {},
   "outputs": [],
   "source": []
  }
 ],
 "metadata": {
  "kernelspec": {
   "display_name": "rl",
   "language": "python",
   "name": "python3"
  },
  "language_info": {
   "codemirror_mode": {
    "name": "ipython",
    "version": 3
   },
   "file_extension": ".py",
   "mimetype": "text/x-python",
   "name": "python",
   "nbconvert_exporter": "python",
   "pygments_lexer": "ipython3",
   "version": "3.6.10"
  },
  "orig_nbformat": 4,
  "vscode": {
   "interpreter": {
    "hash": "beeee1777a2ba2c83e3b0dadebdf55ebb7f4290960a06885c51e1c56ca4622fb"
   }
  }
 },
 "nbformat": 4,
 "nbformat_minor": 2
}
